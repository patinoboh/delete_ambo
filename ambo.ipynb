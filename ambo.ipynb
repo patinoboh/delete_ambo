{
 "cells": [
  {
   "cell_type": "markdown",
   "metadata": {},
   "source": [
    "In this exploratory exercise, you'll use Sage to understand the spectrum (i.e. the set of eigenvalues and eigenvectors) of a nice class of matrices.  In the solution set, you'll be given some background where these matrices arise in nature, and how to interpret the patterns you will discover in this exercise.\n",
    "\n",
    "Fix arbitrary real numbers $x_1,\\ldots,x_n$ which are pairwise distinct, i.e. so that $x_i\\neq x_j$ for any pair $i\\neq j$.  Let $A=(a_{ij})$ be the following $n \\times n$ matrix:  its diagonal entries are given by the equation,\n",
    "\n",
    "$$a_{ii} = \\sum_{j\\neq i}\\frac{x_i}{x_i-x_j},$$\n",
    "\n",
    "while its off-diagonal entries given by the equation,\n",
    "\n",
    "$$a_{ij} = \\frac{x_i}{x_i-x_j},$$\n",
    "\n",
    "for $i \\neq j$.  For instance when $n=2$, the matrix looks like:\n",
    "\n",
    "$$A = \\left(\\begin{array}{cc}\\frac{x_1}{x_1-x_2} & \\frac{x_1}{x_1-x_2} \\\\ \\frac{x_2}{x_2-x_1} & \\frac{x_2}{x_2-x_1}\\end{array}\\right)$$\n",
    "\n"
   ]
  },
  {
   "cell_type": "markdown",
   "metadata": {},
   "source": [
    "### Problem 1 (5 pts)\n",
    "In the SAGE cell below, define a function AList(n,L), which takes as input an integer n and a list L of n pairwise distinct rational numbers, and outputs the matrix $A$ defined above, with the $x_i$'s determined by the entries of the list L.\n",
    "\n",
    "> Note: in the abstract mathematical problem described above, the $x_i$ are real numbers; however in the programming exercises below you'll use rational numbers instead.  That's just because rational numbers are something the computer can work with concretely, whereas a real number is actually a very difficult object for computers to manipulate algebraically -- after all, a real number is really an infinite Cauchy sequence of rational numbers..."
   ]
  },
  {
   "cell_type": "markdown",
   "metadata": {},
   "source": [
    "\n",
    "Filip Amberský\n",
    "### Problem 2 (5pts)\n",
    "Define a function RandList(n), which takes a pair of non-negative integers n <= k and outputs a randomly generated list of length n whose elements are chosen at random from the set of integers [1,...,k], using QQ(randint(1,k)).  Your function must ensure the entries are all distinct.\n"
   ]
  },
  {
   "cell_type": "markdown",
   "metadata": {},
   "source": [
    "The function `QQ()` coerces your integers to be rational numbers, otherwise SAGE may attempt integer division (tossing the remainder), rather than rational number division."
   ]
  },
  {
   "cell_type": "markdown",
   "metadata": {},
   "source": [
    "Now run the cell below, and contemplate the output.  Do you notice any interesting or surprising patterns??\n",
    "\n",
    "> Note that a right eigenvector $v$ is what you're used to, it satisfise $Av=cv$ for some scalar $c$.  A left eigenvector satisfies instead $wA=cw$.  So, it is a row vector, essentially it is a right eigenvector instead for the transpose matrix."
   ]
  },
  {
   "cell_type": "markdown",
   "metadata": {},
   "source": [
    "### Problem 3 (5pts)\n",
    "\n",
    "We created the matrices above with rational random numbers, and it seems no matter what numbers we entered, a similar pattern emerged for the eigenvalues.\n",
    "\n",
    "Sage can do much better than randomly populating the matrix with numbers for experimentation -- it can work symbolically!  Declare variables x1 x2 x3 x4 x5, populate matrices A2 A3 A4 A5 of ranks 2, 3, 4, and 5, as described above with variable entries instead of random entries (if you wish you can make this a loop).  Have Sage print a table, using the table() command, with each matrix printed, alongside its list of right and left eigenvectors.  Leave the cell intact when you print and submit the notebook."
   ]
  },
  {
   "cell_type": "markdown",
   "metadata": {},
   "source": [
    "## Problem 4 (10pts)\n",
    "Conjecture a complete set of eigenvalues, and their corresponding eigenvectors (left, or right, whichever you find easiest), for the matrix $A$, depending on the list $x_1,\\ldots,x_n$.  Write your conjecture into the markdown cell below.  Note that your conjecture will be marked for completeness and accuracy.  Be sure and state it precisely!\n",
    "\n",
    "If you've done steps (1) - (3) correctly, it should be a very simple (and possibly surprising!) conjecture to determine the eigenvalues.  If you're getting what appears to be garbage output for them, check with a friend, and check your code for errors."
   ]
  },
  {
   "cell_type": "markdown",
   "metadata": {},
   "source": [
    "Your output for Problem 3 will suggest a nice formula for the eigenvectors as well, albeit more complicated.  Note that while eigenvalues are canonically assigned to a matrix, eigenvectors are somewhat more arbitrary, in that any scalar multiple of an eigenvector is again an eigenvector with the same eigen value.  You might wish to massage the output SAGE gives you before making your guess."
   ]
  },
  {
   "cell_type": "markdown",
   "metadata": {},
   "source": [
    "### Problem 5 (15pts)\n",
    "Give a complete and well-written proof of your formula for the eigenvectors and their eigenvalues.\n",
    "\n",
    "Alternatively, you may receive partial credit, worth 5/15 marks, if for n=7, you can:\n",
    "* Define the seven eigenvectors symbolically -- i.e. it should be an explicit formula in the variables x1 x2 x3 x4 x5 x6 x7 and not just extracted by using the .eigenvectors() or similar command.\n",
    "* Confirms that the matrix AList constructed for that n and with those variable entries, does indeed satisfy the required eigenvalue equation.\n",
    "\n",
    "Full marks will be awarded for a complete proof without code, and in case of code plus incomplete proofs, you will get 5/15 plus whatever you've earned on the proof."
   ]
  },
  {
   "cell_type": "code",
   "execution_count": 3,
   "metadata": {},
   "outputs": [
    {
     "name": "stdout",
     "output_type": "stream",
     "text": [
      "True\n"
     ]
    },
    {
     "name": "stderr",
     "output_type": "stream",
     "text": [
      "UsageError: Line magic function `%display` not found.\n"
     ]
    }
   ],
   "source": [
    "\n",
    "from sage.all import *\n",
    "## Problem 1\n",
    "pretty_print(True)\n",
    "\n",
    "def AList(n,L):\n",
    "    '''This fuction takes as input a non-negative integer n and a list L, consisting of\n",
    "    n pairwise distinct rational numbers, and outputs the matrix A as specified in the problem.\n",
    "   \n",
    "    '''\n",
    "    A = matrix(QQ, n, n, 0)\n",
    "    for j in range(n):\n",
    "        for i in range(n):\n",
    "            if i == j:\n",
    "                if n/2 <= j:\n",
    "                    A[i,j] = L[i] / (L[i] - L[j-1])\n",
    "                else:\n",
    "                    A[i,j] = L[i] / (L[i] - L[j+1])\n",
    "            else:\n",
    "                A[i,j] = L[i] / (L[i] - L[j])\n",
    "    return A\n",
    "%display latex\n",
    "AList(2,[1.0,2.0])\n",
    "\n",
    "\n",
    "## Problem 2\n",
    "\n",
    "import random as rn\n",
    "def RandList(n,k):\n",
    "    '''\n",
    "    This function returns a list of n randomly chosen elements from the set 1,...,k.  If it happens that\n",
    "    the list contains repeats, then it iterates again until it finds a list with distinct entries.  If n\n",
    "    is greater than k, the function should throw a ValueError rather than loop indefinitely.\n",
    "    '''\n",
    "    list_og = [i for i in range(1,k+1)]\n",
    "    rand_list = []\n",
    "    if n>k:\n",
    "        raise ValueError\n",
    "    else:\n",
    "        for i in range(n):\n",
    "            x = QQ(rn.choice(list_og))\n",
    "            rand_list.append(x)\n",
    "            list_og.remove(x)\n",
    "    return rand_list\n",
    "\n",
    "## toto je ten kod po note that:\n",
    "\n",
    "\n",
    "# for n in [2..5]:\n",
    "#     thisA = AList(n,RandList(n,100))\n",
    "#     print('n =',n,'\\n thisA=\\n',thisA, '\\n\\n Eigenvalues=\\n', thisA.eigenvalues(), '\\n\\n Av=cv eigenvectors \\n', thisA.eigenvectors_right(),'\\n\\n wA=cw eigenvectors \\n',thisA.eigenvectors_left(), '\\n\\n')"
   ]
  }
 ],
 "metadata": {
  "kernelspec": {
   "display_name": "Python 3",
   "language": "python",
   "name": "python3"
  },
  "language_info": {
   "codemirror_mode": {
    "name": "ipython",
    "version": 3
   },
   "file_extension": ".py",
   "mimetype": "text/x-python",
   "name": "python",
   "nbconvert_exporter": "python",
   "pygments_lexer": "ipython3",
   "version": "3.10.12"
  }
 },
 "nbformat": 4,
 "nbformat_minor": 2
}
