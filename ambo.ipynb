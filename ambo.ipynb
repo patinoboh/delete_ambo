{
 "cells": [
  {
   "cell_type": "markdown",
   "metadata": {},
   "source": [
    "In this exploratory exercise, you'll use Sage to understand the spectrum (i.e. the set of eigenvalues and eigenvectors) of a nice class of matrices.  In the solution set, you'll be given some background where these matrices arise in nature, and how to interpret the patterns you will discover in this exercise.\n",
    "\n",
    "Fix arbitrary real numbers $x_1,\\ldots,x_n$ which are pairwise distinct, i.e. so that $x_i\\neq x_j$ for any pair $i\\neq j$.  Let $A=(a_{ij})$ be the following $n \\times n$ matrix:  its diagonal entries are given by the equation,\n",
    "\n",
    "$$a_{ii} = \\sum_{j\\neq i}\\frac{x_i}{x_i-x_j},$$\n",
    "\n",
    "while its off-diagonal entries given by the equation,\n",
    "\n",
    "$$a_{ij} = \\frac{x_i}{x_i-x_j},$$\n",
    "\n",
    "for $i \\neq j$.  For instance when $n=2$, the matrix looks like:\n",
    "\n",
    "$$A = \\left(\\begin{array}{cc}\\frac{x_1}{x_1-x_2} & \\frac{x_1}{x_1-x_2} \\\\ \\frac{x_2}{x_2-x_1} & \\frac{x_2}{x_2-x_1}\\end{array}\\right)$$\n",
    "\n"
   ]
  },
  {
   "cell_type": "markdown",
   "metadata": {},
   "source": [
    "### Problem 1 (5 pts)\n",
    "In the SAGE cell below, define a function AList(n,L), which takes as input an integer n and a list L of n pairwise distinct rational numbers, and outputs the matrix $A$ defined above, with the $x_i$'s determined by the entries of the list L.\n",
    "\n",
    "> Note: in the abstract mathematical problem described above, the $x_i$ are real numbers; however in the programming exercises below you'll use rational numbers instead.  That's just because rational numbers are something the computer can work with concretely, whereas a real number is actually a very difficult object for computers to manipulate algebraically -- after all, a real number is really an infinite Cauchy sequence of rational numbers..."
   ]
  },
  {
   "cell_type": "markdown",
   "metadata": {},
   "source": [
    "\n",
    "Filip Amberský\n",
    "### Problem 2 (5pts)\n",
    "Define a function RandList(n), which takes a pair of non-negative integers n <= k and outputs a randomly generated list of length n whose elements are chosen at random from the set of integers [1,...,k], using QQ(randint(1,k)).  Your function must ensure the entries are all distinct.\n"
   ]
  },
  {
   "cell_type": "markdown",
   "metadata": {},
   "source": [
    "The function `QQ()` coerces your integers to be rational numbers, otherwise SAGE may attempt integer division (tossing the remainder), rather than rational number division."
   ]
  },
  {
   "cell_type": "markdown",
   "metadata": {},
   "source": [
    "Now run the cell below, and contemplate the output.  Do you notice any interesting or surprising patterns??\n",
    "\n",
    "> Note that a right eigenvector $v$ is what you're used to, it satisfise $Av=cv$ for some scalar $c$.  A left eigenvector satisfies instead $wA=cw$.  So, it is a row vector, essentially it is a right eigenvector instead for the transpose matrix."
   ]
  },
  {
   "cell_type": "markdown",
   "metadata": {},
   "source": [
    "### Problem 3 (5pts)\n",
    "\n",
    "We created the matrices above with rational random numbers, and it seems no matter what numbers we entered, a similar pattern emerged for the eigenvalues.\n",
    "\n",
    "Sage can do much better than randomly populating the matrix with numbers for experimentation -- it can work symbolically!  Declare variables x1 x2 x3 x4 x5, populate matrices A2 A3 A4 A5 of ranks 2, 3, 4, and 5, as described above with variable entries instead of random entries (if you wish you can make this a loop).  Have Sage print a table, using the table() command, with each matrix printed, alongside its list of right and left eigenvectors.  Leave the cell intact when you print and submit the notebook."
   ]
  },
  {
   "cell_type": "markdown",
   "metadata": {},
   "source": [
    "## Problem 4 (10pts)\n",
    "Conjecture a complete set of eigenvalues, and their corresponding eigenvectors (left, or right, whichever you find easiest), for the matrix $A$, depending on the list $x_1,\\ldots,x_n$.  Write your conjecture into the markdown cell below.  Note that your conjecture will be marked for completeness and accuracy.  Be sure and state it precisely!\n",
    "\n",
    "If you've done steps (1) - (3) correctly, it should be a very simple (and possibly surprising!) conjecture to determine the eigenvalues.  If you're getting what appears to be garbage output for them, check with a friend, and check your code for errors."
   ]
  },
  {
   "cell_type": "markdown",
   "metadata": {},
   "source": [
    "Your output for Problem 3 will suggest a nice formula for the eigenvectors as well, albeit more complicated.  Note that while eigenvalues are canonically assigned to a matrix, eigenvectors are somewhat more arbitrary, in that any scalar multiple of an eigenvector is again an eigenvector with the same eigen value.  You might wish to massage the output SAGE gives you before making your guess."
   ]
  },
  {
   "cell_type": "markdown",
   "metadata": {},
   "source": [
    "### Problem 5 (15pts)\n",
    "Give a complete and well-written proof of your formula for the eigenvectors and their eigenvalues.\n",
    "\n",
    "Alternatively, you may receive partial credit, worth 5/15 marks, if for n=7, you can:\n",
    "* Define the seven eigenvectors symbolically -- i.e. it should be an explicit formula in the variables x1 x2 x3 x4 x5 x6 x7 and not just extracted by using the .eigenvectors() or similar command.\n",
    "* Confirms that the matrix AList constructed for that n and with those variable entries, does indeed satisfy the required eigenvalue equation.\n",
    "\n",
    "Full marks will be awarded for a complete proof without code, and in case of code plus incomplete proofs, you will get 5/15 plus whatever you've earned on the proof."
   ]
  },
  {
   "cell_type": "code",
   "execution_count": 8,
   "metadata": {},
   "outputs": [
    {
     "name": "stdout",
     "output_type": "stream",
     "text": [
      "n = 2 \n",
      " thisA=\n",
      " [ 23  23]\n",
      "[-22 -22] \n",
      "\n",
      " Eigenvalues=\n",
      " [1, 0] \n",
      "\n",
      " Av=cv eigenvectors \n",
      " [(1, [\n",
      "(1, -22/23)\n",
      "], 1), (0, [\n",
      "(1, -1)\n",
      "], 1)] \n",
      "\n",
      " wA=cw eigenvectors \n",
      " [(1, [\n",
      "(1, 1)\n",
      "], 1), (0, [\n",
      "(1, 23/22)\n",
      "], 1)] \n",
      "\n",
      "\n",
      "n = 3 \n",
      " thisA=\n",
      " [ 39/34  39/34 -39/49]\n",
      "[ -5/34  -5/83  -5/83]\n",
      "[ 88/49  88/83  88/83] \n",
      "\n",
      " Eigenvalues=\n",
      " [0.03470961550461519?, 1.056174604012399? - 1.247527449189423?*I, 1.056174604012399? + 1.247527449189423?*I] \n",
      "\n",
      " Av=cv eigenvectors \n",
      " [(0.03470961550461519?, [(1, -1.272220882239186?, -0.4359278472019400?)], 1), (1.056174604012399? - 1.247527449189423?*I, [(1, -0.02244561218027097? - 0.10174549651479677?*I, 0.08183977740486172? + 1.420773066749474?*I)], 1), (1.056174604012399? + 1.247527449189423?*I, [(1, -0.02244561218027097? + 0.10174549651479677?*I, 0.08183977740486172? - 1.420773066749474?*I)], 1)] \n",
      "\n",
      " wA=cw eigenvectors \n",
      " [(0.03470961550461519?, [(1, 60.29603328213723?, 4.317966033941948?)], 1), (1.056174604012399? - 1.247527449189423?*I, [(1, 0.781441543370071? + 0.2315250556954645?*I, 0.01338237580558920? - 0.6756875306497961?*I)], 1), (1.056174604012399? + 1.247527449189423?*I, [(1, 0.781441543370071? - 0.2315250556954645?*I, 0.01338237580558920? + 0.6756875306497961?*I)], 1)] \n",
      "\n",
      "\n",
      "n = 4 \n",
      " thisA=\n",
      " [-13/14 -13/14  -13/9  -39/2]\n",
      "[ 27/14   27/5   27/5  81/40]\n",
      "[  22/9  -22/5  -22/5  66/25]\n",
      "[  41/2 -41/40 -41/25 -41/25] \n",
      "\n",
      " Eigenvalues=\n",
      " [-0.03855066642097846?, 1.035885238650741?, -1.282953000400596? - 20.28260889696113?*I, -1.282953000400596? + 20.28260889696113?*I] \n",
      "\n",
      " Av=cv eigenvectors \n",
      " [(-0.03855066642097846?, [(1, -35.21466959712897?, 35.48284158611451?, -0.9971116979404588?)], 1), (1.035885238650741?, [(1, -77.40542291765913?, 62.59380652407262?, -1.051347108703741?)], 1), (-1.282953000400596? - 20.28260889696113?*I, [(1, -0.1554256857023611? + 0.019901570130483?*I, -0.1024765243122825? + 0.174301960740662?*I, 0.03316549072140280? + 1.026274839420853?*I)], 1), (-1.282953000400596? + 20.28260889696113?*I, [(1, -0.1554256857023611? - 0.019901570130483?*I, -0.1024765243122825? - 0.174301960740662?*I, 0.03316549072140280? - 1.026274839420853?*I)], 1)] \n",
      "\n",
      " wA=cw eigenvectors \n",
      " [(-0.03855066642097846?, [(1, 3.462037090046025?, 4.252028013675787?, -0.789298112683845?)], 1), (1.035885238650741?, [(1, 3.816817833123044?, 3.739859316475009?, -0.7091915845347305?)], 1), (-1.282953000400596? - 20.28260889696113?*I, [(1, -0.05013964310819650? - 0.04520874926652905?*I, -0.0780350826370867? - 0.0723084985429850?*I, -0.003264939730143470? - 0.9765203164514504?*I)], 1), (-1.282953000400596? + 20.28260889696113?*I, [(1, -0.05013964310819650? + 0.04520874926652905?*I, -0.0780350826370867? + 0.0723084985429850?*I, -0.003264939730143470? + 0.9765203164514504?*I)], 1)] \n",
      "\n",
      "\n",
      "n = 5 \n",
      " thisA=\n",
      " [ -4/61  -4/61  -4/55  -1/23  -4/29]\n",
      "[ 65/61   65/6   65/6 -65/31  65/32]\n",
      "[ 59/55  -59/6 -59/37 -59/37  59/26]\n",
      "[ 24/23  96/31  96/37  96/37  32/21]\n",
      "[ 33/29 -33/32 -33/26 -11/21 -11/21] \n",
      "\n",
      " Eigenvalues=\n",
      " [2.279601537577502?, 0.04488654914335831? - 0.4075445905840923?*I, 0.04488654914335831? + 0.4075445905840923?*I, 4.437287701583894? - 9.05252235947475?*I, 4.437287701583894? + 9.05252235947475?*I] \n",
      "\n",
      " Av=cv eigenvectors \n",
      " [(2.279601537577502?, [(1, 67.48405703049780?, -88.4946481290422?, -140.7752595950453?, 41.95051908437166?)], 1), (0.04488654914335831? - 0.4075445905840923?*I, [(1, 0.1211856750397810? + 1.679002980317096?*I, -0.0805173709370920? - 2.769796384256752?*I, -0.307283093551992? - 1.642650479110881?*I, -0.719134590350861? + 4.134713842475874?*I)], 1), (0.04488654914335831? + 0.4075445905840923?*I, [(1, 0.1211856750397810? - 1.679002980317096?*I, -0.0805173709370920? + 2.769796384256752?*I, -0.307283093551992? + 1.642650479110881?*I, -0.719134590350861? - 4.134713842475874?*I)], 1), (4.437287701583894? - 9.05252235947475?*I, [(1, -171.7812999781274? - 6.09664255616291?*I, 84.39699677674506? + 142.7065293199227?*I, -43.47085685973719? - 22.54356498239890?*I, 18.22330942217301? + 0.390053774678471?*I)], 1), (4.437287701583894? + 9.05252235947475?*I, [(1, -171.7812999781274? + 6.09664255616291?*I, 84.39699677674506? - 142.7065293199227?*I, -43.47085685973719? + 22.54356498239890?*I, 18.22330942217301? - 0.390053774678471?*I)], 1)] \n",
      "\n",
      " wA=cw eigenvectors \n",
      " [(2.279601537577502?, [(1, -0.1603593972099301?, 0.2085982750661481?, 1.376856516914579?, 0.7518567885203167?)], 1), (0.04488654914335831? - 0.4075445905840923?*I, [(1, 0.007786263961816256? - 0.01420712893035841?*I, 0.00433879455059648? - 0.012116732882575680?*I, 0.02642336483065014? - 0.07740071104234617?*I, 0.06145972720932070? - 0.2624429147497748?*I)], 1), (0.04488654914335831? + 0.4075445905840923?*I, [(1, 0.007786263961816256? + 0.01420712893035841?*I, 0.00433879455059648? + 0.012116732882575680?*I, 0.02642336483065014? + 0.07740071104234617?*I, 0.06145972720932070? + 0.2624429147497748?*I)], 1), (4.437287701583894? - 9.05252235947475?*I, [(1, 0.2435688726374784? - 4.744740167618482?*I, 3.789297127924386? - 2.984532381268290?*I, -1.736837737300437? - 0.4763884171222686?*I, 1.749482927960677? - 0.2618449109051056?*I)], 1), (4.437287701583894? + 9.05252235947475?*I, [(1, 0.2435688726374784? + 4.744740167618482?*I, 3.789297127924386? + 2.984532381268290?*I, -1.736837737300437? + 0.4763884171222686?*I, 1.749482927960677? + 0.2618449109051056?*I)], 1)] \n",
      "\n",
      "\n"
     ]
    },
    {
     "ename": "AttributeError",
     "evalue": "'sage.matrix.matrix_generic_dense.Matrix_generic_dense' object has no attribute 'eigenvector_right'",
     "output_type": "error",
     "traceback": [
      "\u001b[0;31m---------------------------------------------------------------------------\u001b[0m",
      "\u001b[0;31mAttributeError\u001b[0m                            Traceback (most recent call last)",
      "\u001b[0;32m/tmp/ipykernel_9494/106507307.py\u001b[0m in \u001b[0;36m<module>\u001b[0;34m\u001b[0m\n\u001b[1;32m     77\u001b[0m \u001b[0;31m# create 2x2 matrix\u001b[0m\u001b[0;34m\u001b[0m\u001b[0;34m\u001b[0m\u001b[0m\n\u001b[1;32m     78\u001b[0m \u001b[0mA\u001b[0m \u001b[0;34m=\u001b[0m \u001b[0mmatrix\u001b[0m\u001b[0;34m(\u001b[0m\u001b[0mRR\u001b[0m\u001b[0;34m,\u001b[0m \u001b[0;34m[\u001b[0m\u001b[0;34m[\u001b[0m\u001b[0mInteger\u001b[0m\u001b[0;34m(\u001b[0m\u001b[0;36m1\u001b[0m\u001b[0;34m)\u001b[0m\u001b[0;34m,\u001b[0m\u001b[0mInteger\u001b[0m\u001b[0;34m(\u001b[0m\u001b[0;36m0\u001b[0m\u001b[0;34m)\u001b[0m\u001b[0;34m]\u001b[0m\u001b[0;34m,\u001b[0m\u001b[0;34m[\u001b[0m\u001b[0mInteger\u001b[0m\u001b[0;34m(\u001b[0m\u001b[0;36m0\u001b[0m\u001b[0;34m)\u001b[0m\u001b[0;34m,\u001b[0m\u001b[0mInteger\u001b[0m\u001b[0;34m(\u001b[0m\u001b[0;36m1\u001b[0m\u001b[0;34m)\u001b[0m\u001b[0;34m]\u001b[0m\u001b[0;34m]\u001b[0m\u001b[0;34m)\u001b[0m\u001b[0;34m\u001b[0m\u001b[0;34m\u001b[0m\u001b[0m\n\u001b[0;32m---> 79\u001b[0;31m \u001b[0mA\u001b[0m\u001b[0;34m.\u001b[0m\u001b[0meigenvector_right\u001b[0m\u001b[0;34m(\u001b[0m\u001b[0;34m)\u001b[0m\u001b[0;34m\u001b[0m\u001b[0;34m\u001b[0m\u001b[0m\n\u001b[0m",
      "\u001b[0;32m/usr/lib/python3/dist-packages/sage/structure/element.pyx\u001b[0m in \u001b[0;36msage.structure.element.Element.__getattr__ (build/cythonized/sage/structure/element.c:4827)\u001b[0;34m()\u001b[0m\n\u001b[1;32m    492\u001b[0m             \u001b[0mAttributeError\u001b[0m\u001b[0;34m:\u001b[0m \u001b[0;34m'LeftZeroSemigroup_with_category.element_class'\u001b[0m \u001b[0mobject\u001b[0m \u001b[0mhas\u001b[0m \u001b[0mno\u001b[0m \u001b[0mattribute\u001b[0m \u001b[0;34m'blah_blah'\u001b[0m\u001b[0;34m\u001b[0m\u001b[0;34m\u001b[0m\u001b[0m\n\u001b[1;32m    493\u001b[0m         \"\"\"\n\u001b[0;32m--> 494\u001b[0;31m         \u001b[0;32mreturn\u001b[0m \u001b[0mself\u001b[0m\u001b[0;34m.\u001b[0m\u001b[0mgetattr_from_category\u001b[0m\u001b[0;34m(\u001b[0m\u001b[0mname\u001b[0m\u001b[0;34m)\u001b[0m\u001b[0;34m\u001b[0m\u001b[0;34m\u001b[0m\u001b[0m\n\u001b[0m\u001b[1;32m    495\u001b[0m \u001b[0;34m\u001b[0m\u001b[0m\n\u001b[1;32m    496\u001b[0m     \u001b[0mcdef\u001b[0m \u001b[0mgetattr_from_category\u001b[0m\u001b[0;34m(\u001b[0m\u001b[0mself\u001b[0m\u001b[0;34m,\u001b[0m \u001b[0mname\u001b[0m\u001b[0;34m)\u001b[0m\u001b[0;34m:\u001b[0m\u001b[0;34m\u001b[0m\u001b[0;34m\u001b[0m\u001b[0m\n",
      "\u001b[0;32m/usr/lib/python3/dist-packages/sage/structure/element.pyx\u001b[0m in \u001b[0;36msage.structure.element.Element.getattr_from_category (build/cythonized/sage/structure/element.c:4939)\u001b[0;34m()\u001b[0m\n\u001b[1;32m    505\u001b[0m         \u001b[0;32melse\u001b[0m\u001b[0;34m:\u001b[0m\u001b[0;34m\u001b[0m\u001b[0;34m\u001b[0m\u001b[0m\n\u001b[1;32m    506\u001b[0m             \u001b[0mcls\u001b[0m \u001b[0;34m=\u001b[0m \u001b[0mP\u001b[0m\u001b[0;34m.\u001b[0m\u001b[0m_abstract_element_class\u001b[0m\u001b[0;34m\u001b[0m\u001b[0;34m\u001b[0m\u001b[0m\n\u001b[0;32m--> 507\u001b[0;31m         \u001b[0;32mreturn\u001b[0m \u001b[0mgetattr_from_other_class\u001b[0m\u001b[0;34m(\u001b[0m\u001b[0mself\u001b[0m\u001b[0;34m,\u001b[0m \u001b[0mcls\u001b[0m\u001b[0;34m,\u001b[0m \u001b[0mname\u001b[0m\u001b[0;34m)\u001b[0m\u001b[0;34m\u001b[0m\u001b[0;34m\u001b[0m\u001b[0m\n\u001b[0m\u001b[1;32m    508\u001b[0m \u001b[0;34m\u001b[0m\u001b[0m\n\u001b[1;32m    509\u001b[0m     \u001b[0;32mdef\u001b[0m \u001b[0m__dir__\u001b[0m\u001b[0;34m(\u001b[0m\u001b[0mself\u001b[0m\u001b[0;34m)\u001b[0m\u001b[0;34m:\u001b[0m\u001b[0;34m\u001b[0m\u001b[0;34m\u001b[0m\u001b[0m\n",
      "\u001b[0;32m/usr/lib/python3/dist-packages/sage/cpython/getattr.pyx\u001b[0m in \u001b[0;36msage.cpython.getattr.getattr_from_other_class (build/cythonized/sage/cpython/getattr.c:2703)\u001b[0;34m()\u001b[0m\n\u001b[1;32m    359\u001b[0m         \u001b[0mdummy_error_message\u001b[0m\u001b[0;34m.\u001b[0m\u001b[0mcls\u001b[0m \u001b[0;34m=\u001b[0m \u001b[0mtype\u001b[0m\u001b[0;34m(\u001b[0m\u001b[0mself\u001b[0m\u001b[0;34m)\u001b[0m\u001b[0;34m\u001b[0m\u001b[0;34m\u001b[0m\u001b[0m\n\u001b[1;32m    360\u001b[0m         \u001b[0mdummy_error_message\u001b[0m\u001b[0;34m.\u001b[0m\u001b[0mname\u001b[0m \u001b[0;34m=\u001b[0m \u001b[0mname\u001b[0m\u001b[0;34m\u001b[0m\u001b[0;34m\u001b[0m\u001b[0m\n\u001b[0;32m--> 361\u001b[0;31m         \u001b[0;32mraise\u001b[0m \u001b[0mAttributeError\u001b[0m\u001b[0;34m(\u001b[0m\u001b[0mdummy_error_message\u001b[0m\u001b[0;34m)\u001b[0m\u001b[0;34m\u001b[0m\u001b[0;34m\u001b[0m\u001b[0m\n\u001b[0m\u001b[1;32m    362\u001b[0m     \u001b[0mattribute\u001b[0m \u001b[0;34m=\u001b[0m \u001b[0;34m<\u001b[0m\u001b[0mobject\u001b[0m\u001b[0;34m>\u001b[0m\u001b[0mattr\u001b[0m\u001b[0;34m\u001b[0m\u001b[0;34m\u001b[0m\u001b[0m\n\u001b[1;32m    363\u001b[0m     \u001b[0;31m# Check for a descriptor (__get__ in Python)\u001b[0m\u001b[0;34m\u001b[0m\u001b[0;34m\u001b[0m\u001b[0m\n",
      "\u001b[0;31mAttributeError\u001b[0m: 'sage.matrix.matrix_generic_dense.Matrix_generic_dense' object has no attribute 'eigenvector_right'"
     ]
    }
   ],
   "source": [
    "\n",
    "# Problem 1\n",
    "%display latex\n",
    "def AList(n,L):\n",
    "    A = matrix(QQ, n, n, 0)\n",
    "    for j in range(n):\n",
    "        for i in range(n):\n",
    "            if i == j:\n",
    "                if n/2 <= j:\n",
    "                    A[i,j] = L[i] / (L[i] - L[j-1])\n",
    "                else:\n",
    "                    A[i,j] = L[i] / (L[i] - L[j+1])\n",
    "            else:\n",
    "                A[i,j] = L[i] / (L[i] - L[j])\n",
    "    return A\n",
    "\n",
    "\n",
    "## Problem 2\n",
    "\n",
    "import random as rn\n",
    "def RandList(n,k):\n",
    "    '''\n",
    "    This function returns a list of n randomly chosen elements from the set 1,...,k.  If it happens that\n",
    "    the list contains repeats, then it iterates again until it finds a list with distinct entries.  If n\n",
    "    is greater than k, the function should throw a ValueError rather than loop indefinitely.\n",
    "    '''\n",
    "    list_og = [i for i in range(1,k+1)]\n",
    "    rand_list = []\n",
    "    if n>k:\n",
    "        raise ValueError\n",
    "    else:\n",
    "        for i in range(n):\n",
    "            x = QQ(rn.choice(list_og))\n",
    "            rand_list.append(x)\n",
    "            list_og.remove(x)\n",
    "    return rand_list\n",
    "\n",
    "## toto je ten kod po note that:\n",
    "\n",
    "\n",
    "for n in [2, 3, 4, 5]:\n",
    "    thisA = AList(n,RandList(n,100))\n",
    "    print('n =',n,'\\n thisA=\\n',thisA, '\\n\\n Eigenvalues=\\n', thisA.eigenvalues(), '\\n\\n Av=cv eigenvectors \\n', thisA.eigenvectors_right(),'\\n\\n wA=cw eigenvectors \\n',thisA.eigenvectors_left(), '\\n\\n')\n",
    "    \n",
    "\n",
    "def SRlist(n,L):\n",
    "    '''This fuction takes as input a non-negative integer n and a list L, consisting of\n",
    "    n pairwise distinct rational numbers, and outputs the matrix A as specified in the problem.\n",
    "    \n",
    "    '''\n",
    "    A = matrix(SR, n, n, 0)\n",
    "    for j in range(n):\n",
    "        for i in range(n):\n",
    "            if i == j:\n",
    "                if n/2 <= j:\n",
    "                    A[i,j] = L[i] / (L[i] - L[j-1])\n",
    "                else:\n",
    "                    A[i,j] = L[i] / (L[i] - L[j+1])\n",
    "            else:\n",
    "                A[i,j] = L[i] / (L[i] - L[j])\n",
    "    return A\n",
    "\n",
    "\n",
    "\n",
    "def create_matrix(x):\n",
    "    n = len(x)\n",
    "    A = matrix(QQ, n, n)\n",
    "    for i in range(n):\n",
    "        for j in range(n):\n",
    "            if i == j:\n",
    "                A[i, j] = sum(x[i] / (x[i] - x[k]) for k in range(n) if k != i)\n",
    "            else:\n",
    "                A[i, j] = x[i] / (x[i] - x[j])\n",
    "    return A\n",
    "\n",
    "\n",
    "\n",
    "# x1, x2, x3, x4, x5 = var('x1', 'x2', 'x3', 'x4', 'x5')\n",
    "# x_s = [x1,x2,x3,x4,x5]\n",
    "# A2 = SRlist(2,x_s)\n",
    "# A3 = SRlist(3,x_s)\n",
    "# A4 = SRlist(4,x_s)\n",
    "# A5 = SRlist(5,x_s)\n",
    "\n",
    "# rows = [[A2, A2.eigenvectors_left(),A2.eigenvectors_right()],\n",
    "#        [A3, A3.eigenvectors_left(),A3.eigenvectors_right()],\n",
    "#        [A4, A4.eigenvectors_left(),A4.eigenvectors_right()],\n",
    "#        [A5, A5.eigenvectors_left(),A5.eigenvectors_right()]]\n",
    "# my_table = table(rows)\n",
    "# pretty_print(my_table)\n",
    "# A5\n",
    "\n",
    "# create 2x2 matrix\n",
    "\n",
    "\n",
    "\n",
    "\n",
    "A = matrix(RR, [[1,0],[0,1]])\n",
    "A.eigenvector_right()"
   ]
  },
  {
   "cell_type": "markdown",
   "metadata": {},
   "source": [
    "# Matika\n",
    "\n",
    "$ Ax = \\lambda x $\n",
    "\n",
    "$ x(A - I\\lambda) = 0 $ "
   ]
  },
  {
   "cell_type": "code",
   "execution_count": null,
   "metadata": {},
   "outputs": [],
   "source": [
    "# create matrix from given vector v where on a_ii is v_i and all other elements are 0\n",
    "v = vector([1,2])\n",
    "A = diagonal_matrix(v)\n",
    "A.eigenvector_right()"
   ]
  }
 ],
 "metadata": {
  "kernelspec": {
   "display_name": "SageMath 9.5",
   "language": "sage",
   "name": "sagemath"
  },
  "language_info": {
   "codemirror_mode": {
    "name": "ipython",
    "version": 3
   },
   "file_extension": ".py",
   "mimetype": "text/x-python",
   "name": "python",
   "nbconvert_exporter": "python",
   "pygments_lexer": "ipython3",
   "version": "3.10.12"
  }
 },
 "nbformat": 4,
 "nbformat_minor": 2
}
